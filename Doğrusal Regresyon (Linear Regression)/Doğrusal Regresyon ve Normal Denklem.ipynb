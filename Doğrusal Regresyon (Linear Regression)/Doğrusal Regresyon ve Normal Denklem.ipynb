{
 "cells": [
  {
   "cell_type": "code",
   "execution_count": 1,
   "metadata": {
    "_cell_guid": "b1076dfc-b9ad-4769-8c92-a6c4dae69d19",
    "_uuid": "8f2839f25d086af736a60e9eeb907d3b93b6e0e5"
   },
   "outputs": [],
   "source": [
    "# This Python 3 environment comes with many helpful analytics libraries installed\n",
    "# It is defined by the kaggle/python Docker image: https://github.com/kaggle/docker-python\n",
    "# For example, here's several helpful packages to load\n",
    "\n",
    "import numpy as np # linear algebra\n",
    "import pandas as pd # data processing, CSV file I/O (e.g. pd.read_csv)\n",
    "import matplotlib.pyplot as plt\n",
    "\n",
    "# Input data files are available in the read-only \"../input/\" directory\n",
    "# For example, running this (by clicking run or pressing Shift+Enter) will list all files under the input directory\n",
    "\n",
    "import os\n",
    "for dirname, _, filenames in os.walk('/kaggle/input'):\n",
    "    for filename in filenames:\n",
    "        print(os.path.join(dirname, filename))\n",
    "\n",
    "# You can write up to 5GB to the current directory (/kaggle/working/) that gets preserved as output when you create a version using \"Save & Run All\" \n",
    "# You can also write temporary files to /kaggle/temp/, but they won't be saved outside of the current session"
   ]
  },
  {
   "cell_type": "markdown",
   "execution_count": null,
   "metadata": {
    "_cell_guid": "79c7e3d0-c299-4dcb-8224-4455121ee9b0",
    "_uuid": "d629ff2d2480ee46fbb7e2d37f6b5fab8052498a",
    "collapsed": true
   },
   "source": [
    "Bir doğrusal model,giriş özelliklerin ağırlıklı toplamına bias terimi(intercept terimi de denir.) olarak adlanlarılan bir sabit ekleyerek bir tahmin yapar. Bir doğrusal modelin denklemi aşağıda gösterilmiştir:\n",
    "\n",
    "Doğrusal regresyon model tahmini:\n",
    "$$\\hat{y}=\\theta_{0}+\\theta_{1}x_{1}+\\theta_{2}x_{2}+...+\\theta_{n}x_{n}$$\n",
    "\n",
    "Bu denklemde:\n",
    "* $\\hat{y}$ : tahmin edilen değerdir.\n",
    "* *n* : özellik sayısıdır.\n",
    "* $x_{i}$ : i'inci özelliğin değeridir.\n",
    "* $\\theta_{j}$ : j'inci model parametresidir($\\theta_{0}$ bias terimi ve $\\theta_{1},\\theta_{2}...\\theta_{n}$ özellik ağırlıkları dahil).\n",
    "\n",
    "Yukarıdaki denklemi vektörleştirilmiş form kullanarak daha kısa bir şekilde yazabiliriz:\n",
    "\n",
    "Doğrusal regresyon model tahmini (vektörleştirilmiş form):\n",
    "$$\\hat{y}=h_{\\theta}(x)=\\theta ⋅ x $$\n",
    "\n",
    "Bu denklemde:\n",
    "* $\\theta$ : $\\theta_{0}$ bias terimini ve $\\theta_{1}$'den $\\theta_{n}$'e kadar özellik ağırlıklarını içeren modelin parametre vektörüdür.\n",
    "* x : $x_{0}$ her zaman 1'e eşit olan,$x_{0}$'dan $x_{n}$'e kadar özellikleri içeren,örneklerin özellik vektörüdür.\n",
    "* $\\theta· x$ : $\\theta_{0}x_{0}+\\theta_{1}x_{1}+\\theta_{2}x_{2}+...+\\theta_{n}x_{n}$'a eşit olan,$\\theta$ ve $x$ vektörlerinin skaler çarpımıdır.\n",
    "* $h_{\\theta}$ : $\\theta$ model parametrelerini kullanan hipotez fonksiyonudur."
   ]
  },
  {
   "cell_type": "markdown",
   "execution_count": null,
   "metadata": {},
   "source": [
    "Tamam,bir doğrusal modelin yukarıda açıkladığımız gibi tanımlandığını anladık.Peki bu modeli nasıl eğiteceğiz? <b>Bir modeli eğitmek demek,modelin eğitim setine en iyi uydurulmasını(fit) sağlayacak model parametrelerini ayarlamaktır.</b> Yani yukarıdaki denklemdeki $\\theta$ parametrelerini öyle ayarlayacağız ki model, eğitim setine çok iyi uydurulmuş olacaktır. Bu amaçla,ilk olarak modelin eğitim setine ne kadar iyi uydurulduğunun ya da ne kadar kötü uydurulduğunun bir ölçüsüne ihtiyacımız vardır. Bir doğrusal regresyon için en yaygın performans ölçüsü: Root Mean Square\n",
    "Error (RMSE) (Ortalama Hata Kareleri Kökü). Buna bağlı olarak,bir Doğrusal Regresyon modelini eğitmek için, RMSE'yi minimize edecek(en aza indirgeyecek) $\\theta$ parametrelerini bulmamız gerekir. Pratikte, MSE'yi minimize etmek daha kolay olduğu için MSE'yi kullanacağız. Zaten MSE'yi minimize eden parametreler RMSE'yi de minimize edecektir.Çünkü bir fonksiyonu minimize eden bir değer o fonksiyonun karekökünü de minimize eder."
   ]
  },
  {
   "cell_type": "markdown",
   "execution_count": null,
   "metadata": {},
   "source": [
    "Doğrusal Regresyon modeli için MSE maliyet fonksiyonu:\n",
    "\n",
    "$$MSE(X,h_{\\theta})=\\frac{1}{m}\\sum_{i=1}^{m}(\\theta^{T}x^{(i)}-y^{(i)})^{2}$$\n",
    "\n",
    "Notasyonu basitleştirmek için $MSE(X,h_{\\theta})$ yerine $MSE(\\theta)$ yazacağız."
   ]
  },
  {
   "cell_type": "markdown",
   "execution_count": null,
   "metadata": {},
   "source": [
    "# Normal Denklem\n",
    "\n",
    "Maliyet fonksiyonunu minimize eden $\\theta$ parametlerini bulmanın bir yoludur.\n",
    "\n",
    "Normal Denklem:\n",
    "\n",
    "$$\\hat{\\theta}=(X^{T}X)^{-1}X^{T}y$$\n",
    "\n",
    "Bu denklemde:\n",
    "* $\\hat{\\theta}$ : Maliyet fonksiyonunu minimize eden $\\theta$ değeridir\\değerleridir.\n",
    "* y : $y^{(1)}$'den $y^{(m)}$'ye kadar hedef değerleri içeren hedef değerler vektörüdür."
   ]
  },
  {
   "cell_type": "markdown",
   "execution_count": null,
   "metadata": {},
   "source": [
    "Şimdi bu denklemi test etmek için doğrusal görünümlü bazı veriler oluşturalım:"
   ]
  },
  {
   "cell_type": "code",
   "execution_count": 2,
   "metadata": {},
   "outputs": [],
   "source": [
    "X = 2 * np.random.rand(100, 1)\n",
    "y = 4 + 3 * X + np.random.randn(100, 1)"
   ]
  },
  {
   "cell_type": "code",
   "execution_count": 3,
   "metadata": {},
   "outputs": [
    {
     "data": {
      "image/png": "[encoded data removed]",
      "text/plain": [
       "<Figure size 432x288 with 1 Axes>"
      ]
     },
     "metadata": {
      "needs_background": "light"
     },
     "output_type": "display_data"
    }
   ],
   "source": [
    "plt.scatter(X,y)\n",
    "plt.xlabel(\"$X_1$\",fontsize=18)\n",
    "plt.ylabel(\"$y$\",rotation=0,fontsize=18)\n",
    "plt.show()"
   ]
  },
  {
   "cell_type": "markdown",
   "execution_count": null,
   "metadata": {},
   "source": [
    "Şimdi Normal Denklemi kullanarak $\\hat{\\theta}$'yı hesaplayalım. Matrisin tersini alma işlemi için NumPy'ın linear algebra modülündeki inv() metodunu kullanacağız ve matrislerin skaler çarpımı için dot() metodunu kullanacağız."
   ]
  },
  {
   "cell_type": "code",
   "execution_count": 4,
   "metadata": {},
   "outputs": [],
   "source": [
    "X_b=np.c_[np.ones((len(X),1)),X] # x0 her zaman 1 olmalıdır. Bu satırda bu durumu gerçekleştiriyoruz.\n",
    "theta = np.linalg.inv(X_b.T.dot(X_b)).dot(X_b.T).dot(y)"
   ]
  },
  {
   "cell_type": "markdown",
   "execution_count": null,
   "metadata": {},
   "source": [
    "Verileri oluşturmak için kullandığımız denklem $y=4+3x_{1}$+gürültü idi.\n",
    "\n",
    "Şimdi bulduğumuz theta değerlerine bakalım:"
   ]
  },
  {
   "cell_type": "code",
   "execution_count": 5,
   "metadata": {},
   "outputs": [
    {
     "data": {
      "text/plain": [
       "array([[4.14312485],\n",
       "       [2.83490515]])"
      ]
     },
     "execution_count": 5,
     "metadata": {},
     "output_type": "execute_result"
    }
   ],
   "source": [
    "theta"
   ]
  },
  {
   "cell_type": "markdown",
   "execution_count": null,
   "metadata": {},
   "source": [
    "Bulduğumuz theta değerlerinden ilki bias katsayısıdır($\\theta_{0}$), ikinci değer ise $x_{1}$in katsayısıdır($\\theta{1}$).\n",
    "\n",
    "Bu durumda bulduğumuz theta değerleri ile tahmin denklemimiz(yani modelimiz) şöyle olmuştur: $\\hat{y}=3.94323901+3.06059495x_{1}$\n",
    "\n",
    "Şimdi bulduğumuz theta($\\theta$) değerlerini kullanarak modelimize tahminler yaptırabiliriz:"
   ]
  },
  {
   "cell_type": "code",
   "execution_count": 6,
   "metadata": {},
   "outputs": [
    {
     "data": {
      "text/plain": [
       "array([[4.14312485],\n",
       "       [9.81293515]])"
      ]
     },
     "execution_count": 6,
     "metadata": {},
     "output_type": "execute_result"
    }
   ],
   "source": [
    "X_yeni=[[0],[2]]\n",
    "X_yeni_b=np.c_[np.ones((len(X_yeni),1)),X_yeni]\n",
    "y_tahmin=X_yeni_b.dot(theta)\n",
    "y_tahmin"
   ]
  },
  {
   "cell_type": "markdown",
   "execution_count": null,
   "metadata": {},
   "source": [
    "Şimdi modelimizin tahminlerini çizdirelim:"
   ]
  },
  {
   "cell_type": "code",
   "execution_count": 7,
   "metadata": {},
   "outputs": [
    {
     "data": {
      "image/png": "[encoded data removed]",
      "text/plain": [
       "<Figure size 432x288 with 1 Axes>"
      ]
     },
     "metadata": {
      "needs_background": "light"
     },
     "output_type": "display_data"
    }
   ],
   "source": [
    "plt.plot(X_yeni,y_tahmin,\"r-\",linewidth=2, label=\"Tahminler\")\n",
    "plt.scatter(X,y)\n",
    "plt.xlabel(\"$x_1$\", fontsize=18)\n",
    "plt.ylabel(\"$y$\", rotation=0, fontsize=18)\n",
    "plt.axis=([0,2,0,15])\n",
    "plt.legend(loc=\"upper left\", fontsize=14)\n",
    "plt.show()"
   ]
  },
  {
   "cell_type": "markdown",
   "execution_count": null,
   "metadata": {},
   "source": [
    "Scikit-Learn kullanarak Doğrusal Regresyon gerçekleştirmek basittir:\n",
    "\n",
    "Scikit-Learn'ün bias terimini(intercept_) özellik ağırlıklarından(coef_) ayırdığını unutmayın."
   ]
  },
  {
   "cell_type": "code",
   "execution_count": 8,
   "metadata": {},
   "outputs": [
    {
     "name": "stdout",
     "output_type": "stream",
     "text": [
      "Bias : [4.14312485]\n",
      "Ağırlıklar : [[2.83490515]]\n"
     ]
    }
   ],
   "source": [
    "from sklearn.linear_model import LinearRegression\n",
    "lin_reg=LinearRegression()\n",
    "lin_reg.fit(X,y)\n",
    "print(\"Bias :\",lin_reg.intercept_)\n",
    "print(\"Ağırlıklar :\",lin_reg.coef_)"
   ]
  }
 ],
 "metadata": {
  "kernelspec": {
   "display_name": "Python 3",
   "language": "python",
   "name": "python3"
  },
  "language_info": {
   "codemirror_mode": {
    "name": "ipython",
    "version": 3
   },
   "file_extension": ".py",
   "mimetype": "text/x-python",
   "name": "python",
   "nbconvert_exporter": "python",
   "pygments_lexer": "ipython3",
   "version": "3.7.6"
  }
 },
 "nbformat": 4,
 "nbformat_minor": 4
}
