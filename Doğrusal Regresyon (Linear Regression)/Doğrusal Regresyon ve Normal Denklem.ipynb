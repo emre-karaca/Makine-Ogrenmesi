{
 "cells": [
  {
   "cell_type": "markdown",
   "metadata": {},
   "source": [
    "Bir doğrusal model basitçe giriş verilerinin ağırlıklı toplamına bias term olarak adlandırılan(ayrıca intercept olarak da adlandırılır.) bir sabit ekleyerek bir tahmin yapar. Denklemini yazacak olursak:\n",
    "\n",
    "<b>*Doğrusal Regresyon model tahmini*</b>\n",
    "\n",
    "<center>$\\hat{y} = \\theta_0+\\theta_1 x_1+\\theta_2 x_2+...+\\theta_n x_n$</center>\n",
    "\n",
    "Bu denklemde:\n",
    "* $\\hat{y}$ tahmin edilen değerdir.\n",
    "* *n* özellik sayısıdır.\n",
    "* $x_i$ i'inci özelliğin değeridir.\n",
    "* $\\theta_j$ j'inci model parametresidir(bias terimi $\\theta_0$ ve özellik ağırlıkları $\\theta_1$,$\\theta_2$,...,$\\theta_n$ dahil).\n",
    "\n",
    "Bu denklem, aşağıda gösterildiği gibi, vektörize edilmiş bir form kullanılarak çok daha kısa bir şekilde yazılabilir.\n",
    "\n",
    "<b>*Doğrusal Regresyon model tahmini (vektör formu)*</b>\n",
    "\n",
    "<center>$\\hat{y}=h_0(x)=\\theta⋅x$</center>\n",
    "\n",
    "Bu denklemde:\n",
    "* $\\theta$ : $\\theta_0$ bias terimini  ve $\\theta_1$'den $\\theta_n$'e kadar özellik ağırlarını içeren modelin parametre vektörüdür.\n",
    "* <b>x</b> : $x_0$'dan $x_n$'e kadar($x_0$ her zaman 1'dir) özellikleri içeren, örneklerin özellik vektörüdür.\n",
    "* $\\theta⋅x$ : $\\theta$ ve <b>x</b> vektörlerinin skaler çarpımıdır ve bu çarpım $\\theta_0+\\theta_1 x_1+\\theta_2 x_2+...+\\theta_n x_n$ bu denkleme eşittir.\n",
    "* $h_\\theta$ :  $\\theta$ model parametrelerini kullanan hipotez fonksiyonudur."
   ]
  },
  {
   "cell_type": "markdown",
   "metadata": {},
   "source": [
    "Peki bu doğrusal regresyon modeli nasıl eğiilir? Bir modeli eğitmek, modelin eğitim setine en iyi uyacak(fit) şekilde model parametrelerini ayarlamaktır. Bu amaçla,ilk olarak modelin eğitim setine ne kadar iyi veya ne kadar kötü uyduyunun bir ölçüsüne ihtiyacımız var. Bir regresyon modeli için en çok kullanılan performans ölçüsü olan Root Mean Square Error'dur. Bunun için bir doğrusal regresyon modelini eğitmek için, RMSE'yi minimize eden $\\theta$ parametrelerini bulmamız gerekir. Uygulamada mean sqaured error(MSE) minimize etmek daha kolaydır ve her ikiside aynı sonuca götürür. \n",
    "\n",
    "Bir <b>X</b> eğitim setinde, $h_\\theta$ Doğrusal Regresyon hipotezinin MSE'si:\n",
    "\n",
    "Doğrusal Regresyon modeli için maliyet fonskiyonu:\n",
    "\n",
    "$MSE(X,h\\theta)=\\dfrac1{m}\\sum\\limits_{i=1}^{m}{(\\theta^{T}x^{(i)}-y^{(i)})^2}$\n",
    "\n",
    "Daha basitçe göstermek için  $MSE(X,h_\\theta)$ yerine $MSE(\\theta)$ yazacağız.\n",
    "\n",
    "## Normal Denklem\n",
    "\n",
    "Maliyet fonksiyonunun $\\theta$ parametrelerini bulmak için kullanılan yöntemlerden biridir. Sonucu direkt verir(iteratif bir yaklaşım kullanmaz).\n",
    "\n",
    "Normal Denklem:\n",
    "\n",
    "$\\hat\\theta = (X^TX)^{-1}X^Ty$\n",
    "\n",
    "Bu denklemde: \n",
    "* $\\hat\\theta$ : maliyet fonksiyonunun minimize eden \\theta değeridir.\n",
    "* $y$ : $y^1$ 'den $y^m$'ye kadar hedef değerleri içeren hedef değerler vektörüdür.\n",
    "\n",
    "Bu denklemi test etmek için bazı doğrusal görünümlü veriler oluşturalım:"
   ]
  },
  {
   "cell_type": "code",
   "execution_count": 1,
   "metadata": {},
   "outputs": [],
   "source": [
    "import numpy as np\n",
    "import matplotlib.pyplot as plt\n",
    "X = 2 * np.random.rand(100, 1)\n",
    "y = 4 + 3 * X + np.random.randn(100, 1)"
   ]
  },
  {
   "cell_type": "code",
   "execution_count": 2,
   "metadata": {},
   "outputs": [
    {
     "data": {
      "image/png": "[encoded data removed]",
      "text/plain": [
       "<Figure size 432x288 with 1 Axes>"
      ]
     },
     "metadata": {
      "needs_background": "light"
     },
     "output_type": "display_data"
    }
   ],
   "source": [
    "plt.plot(X, y, \"b.\")\n",
    "plt.xlabel(\"$x_1$\", fontsize=18)\n",
    "plt.ylabel(\"$y$\", rotation=0, fontsize=18)\n",
    "plt.axis([0, 2, 0, 15])\n",
    "plt.show()"
   ]
  },
  {
   "cell_type": "markdown",
   "metadata": {},
   "source": [
    "Şimdi Normal Denkemi kullanarak $\\theta$'yı hesaplayalım. Matrisin tersini hesaplamak için NumPy'ın algebra modülünden inv() metodunu ve skaler çarpım için dot() metodunu kullanacağız."
   ]
  },
  {
   "cell_type": "code",
   "execution_count": 3,
   "metadata": {},
   "outputs": [],
   "source": [
    "X_b=np.c_[np.ones((len(X),1)),X] # tüm örnekleri x0=1'i ekliyoruz.\n",
    "theta_best = np.linalg.inv(X_b.T.dot(X_b)).dot(X_b.T).dot(y)"
   ]
  },
  {
   "cell_type": "markdown",
   "metadata": {},
   "source": [
    "Veri oluşturmak için kullandığımız fonksiyon $y=4+3x_1+$Gaussian gürültüsü idi. Şimdi Normal Denklemin bulduğu değerlere bakalım:"
   ]
  },
  {
   "cell_type": "code",
   "execution_count": 4,
   "metadata": {},
   "outputs": [
    {
     "data": {
      "text/plain": [
       "array([[4.00896324],\n",
       "       [3.03754674]])"
      ]
     },
     "execution_count": 4,
     "metadata": {},
     "output_type": "execute_result"
    }
   ],
   "source": [
    "theta_best"
   ]
  },
  {
   "cell_type": "markdown",
   "metadata": {},
   "source": [
    "Oldukça yakın, ancak gürültü orijinal fonksiyonun tam parametreleri değerlerini almasını imkansız hale getiriyor.\n",
    "\n",
    "Şimdi $\\theta$'yı kullanarak tahmin yapalım:"
   ]
  },
  {
   "cell_type": "code",
   "execution_count": 5,
   "metadata": {},
   "outputs": [
    {
     "data": {
      "text/plain": [
       "array([[ 4.00896324],\n",
       "       [10.08405673]])"
      ]
     },
     "execution_count": 5,
     "metadata": {},
     "output_type": "execute_result"
    }
   ],
   "source": [
    "X_new=np.array([[0],[2]])\n",
    "X_new_b=np.c_[np.ones((len(X_new),1)),X_new]\n",
    "y_predict = X_new_b.dot(theta_best)\n",
    "y_predict"
   ]
  },
  {
   "cell_type": "markdown",
   "metadata": {},
   "source": [
    "Şimdi modelin taminlerini çizelim:"
   ]
  },
  {
   "cell_type": "code",
   "execution_count": 6,
   "metadata": {},
   "outputs": [
    {
     "data": {
      "image/png": "[encoded data removed]",
      "text/plain": [
       "<Figure size 432x288 with 1 Axes>"
      ]
     },
     "metadata": {
      "needs_background": "light"
     },
     "output_type": "display_data"
    }
   ],
   "source": [
    "plt.plot(X_new, y_predict, \"r-\")\n",
    "plt.plot(X, y, \"b.\")\n",
    "plt.axis([0, 2, 0, 15])\n",
    "plt.show()"
   ]
  },
  {
   "cell_type": "markdown",
   "metadata": {},
   "source": [
    "Scikit-Learn kullanarak Doğrusal Regresyon gerçekleştirmek oldukça kolaydır:"
   ]
  },
  {
   "cell_type": "code",
   "execution_count": 7,
   "metadata": {},
   "outputs": [
    {
     "data": {
      "text/plain": [
       "array([[ 4.00896324],\n",
       "       [10.08405673]])"
      ]
     },
     "execution_count": 7,
     "metadata": {},
     "output_type": "execute_result"
    }
   ],
   "source": [
    "from sklearn.linear_model import LinearRegression\n",
    "lin_reg=LinearRegression()\n",
    "lin_reg.fit(X,y)\n",
    "lin_reg.predict(X_new)"
   ]
  }
 ],
 "metadata": {
  "kernelspec": {
   "display_name": "Python 3",
   "language": "python",
   "name": "python3"
  },
  "language_info": {
   "codemirror_mode": {
    "name": "ipython",
    "version": 3
   },
   "file_extension": ".py",
   "mimetype": "text/x-python",
   "name": "python",
   "nbconvert_exporter": "python",
   "pygments_lexer": "ipython3",
   "version": "3.7.6"
  }
 },
 "nbformat": 4,
 "nbformat_minor": 2
}
