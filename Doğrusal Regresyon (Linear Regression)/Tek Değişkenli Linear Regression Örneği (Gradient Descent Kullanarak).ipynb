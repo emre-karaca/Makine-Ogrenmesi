{
 "cells": [
  {
   "cell_type": "markdown",
   "metadata": {},
   "source": [
    "# Tek Değişkenli Doğrusal Regresyon\n",
    "\n",
    "Şehir nüfusu ve her şehirde bir restoran tarafından elde edilen kârlar ile ilgili verilerimiz var. Görev,restoranın büyümesi gereken yeni şehirleri belirlemek için doğrusal regresyon kullanmaktır.  Amacımız nüfusun kârı nasıl etkilediğini belirlemektir."
   ]
  },
  {
   "cell_type": "code",
   "execution_count": 4,
   "metadata": {},
   "outputs": [],
   "source": [
    "# İlgili kütüphaneleri ekleyelim\n",
    "\n",
    "import numpy as np\n",
    "import pandas as pd\n",
    "import matplotlib.pyplot as plt\n",
    "import seaborn as sns"
   ]
  },
  {
   "cell_type": "code",
   "execution_count": 5,
   "metadata": {},
   "outputs": [
    {
     "data": {
      "text/html": [
       "<div>\n",
       "<style scoped>\n",
       "    .dataframe tbody tr th:only-of-type {\n",
       "        vertical-align: middle;\n",
       "    }\n",
       "\n",
       "    .dataframe tbody tr th {\n",
       "        vertical-align: top;\n",
       "    }\n",
       "\n",
       "    .dataframe thead th {\n",
       "        text-align: right;\n",
       "    }\n",
       "</style>\n",
       "<table border=\"1\" class=\"dataframe\">\n",
       "  <thead>\n",
       "    <tr style=\"text-align: right;\">\n",
       "      <th></th>\n",
       "      <th>Population</th>\n",
       "      <th>Profit</th>\n",
       "    </tr>\n",
       "  </thead>\n",
       "  <tbody>\n",
       "    <tr>\n",
       "      <th>0</th>\n",
       "      <td>6.1101</td>\n",
       "      <td>17.5920</td>\n",
       "    </tr>\n",
       "    <tr>\n",
       "      <th>1</th>\n",
       "      <td>5.5277</td>\n",
       "      <td>9.1302</td>\n",
       "    </tr>\n",
       "    <tr>\n",
       "      <th>2</th>\n",
       "      <td>8.5186</td>\n",
       "      <td>13.6620</td>\n",
       "    </tr>\n",
       "    <tr>\n",
       "      <th>3</th>\n",
       "      <td>7.0032</td>\n",
       "      <td>11.8540</td>\n",
       "    </tr>\n",
       "    <tr>\n",
       "      <th>4</th>\n",
       "      <td>5.8598</td>\n",
       "      <td>6.8233</td>\n",
       "    </tr>\n",
       "  </tbody>\n",
       "</table>\n",
       "</div>"
      ],
      "text/plain": [
       "   Population   Profit\n",
       "0      6.1101  17.5920\n",
       "1      5.5277   9.1302\n",
       "2      8.5186  13.6620\n",
       "3      7.0032  11.8540\n",
       "4      5.8598   6.8233"
      ]
     },
     "execution_count": 5,
     "metadata": {},
     "output_type": "execute_result"
    }
   ],
   "source": [
    "# Şimdi verileri yükleyelim ve ilk 5 örneğe bakalım:\n",
    "\n",
    "data = pd.read_csv(\"datasets/ex1data1.txt\", header=None, names=['Population', 'Profit'])\n",
    "                   \n",
    "data.head()"
   ]
  },
  {
   "cell_type": "code",
   "execution_count": 6,
   "metadata": {},
   "outputs": [
    {
     "data": {
      "text/html": [
       "<div>\n",
       "<style scoped>\n",
       "    .dataframe tbody tr th:only-of-type {\n",
       "        vertical-align: middle;\n",
       "    }\n",
       "\n",
       "    .dataframe tbody tr th {\n",
       "        vertical-align: top;\n",
       "    }\n",
       "\n",
       "    .dataframe thead th {\n",
       "        text-align: right;\n",
       "    }\n",
       "</style>\n",
       "<table border=\"1\" class=\"dataframe\">\n",
       "  <thead>\n",
       "    <tr style=\"text-align: right;\">\n",
       "      <th></th>\n",
       "      <th>Population</th>\n",
       "      <th>Profit</th>\n",
       "    </tr>\n",
       "  </thead>\n",
       "  <tbody>\n",
       "    <tr>\n",
       "      <th>count</th>\n",
       "      <td>97.000000</td>\n",
       "      <td>97.000000</td>\n",
       "    </tr>\n",
       "    <tr>\n",
       "      <th>mean</th>\n",
       "      <td>8.159800</td>\n",
       "      <td>5.839135</td>\n",
       "    </tr>\n",
       "    <tr>\n",
       "      <th>std</th>\n",
       "      <td>3.869884</td>\n",
       "      <td>5.510262</td>\n",
       "    </tr>\n",
       "    <tr>\n",
       "      <th>min</th>\n",
       "      <td>5.026900</td>\n",
       "      <td>-2.680700</td>\n",
       "    </tr>\n",
       "    <tr>\n",
       "      <th>25%</th>\n",
       "      <td>5.707700</td>\n",
       "      <td>1.986900</td>\n",
       "    </tr>\n",
       "    <tr>\n",
       "      <th>50%</th>\n",
       "      <td>6.589400</td>\n",
       "      <td>4.562300</td>\n",
       "    </tr>\n",
       "    <tr>\n",
       "      <th>75%</th>\n",
       "      <td>8.578100</td>\n",
       "      <td>7.046700</td>\n",
       "    </tr>\n",
       "    <tr>\n",
       "      <th>max</th>\n",
       "      <td>22.203000</td>\n",
       "      <td>24.147000</td>\n",
       "    </tr>\n",
       "  </tbody>\n",
       "</table>\n",
       "</div>"
      ],
      "text/plain": [
       "       Population     Profit\n",
       "count   97.000000  97.000000\n",
       "mean     8.159800   5.839135\n",
       "std      3.869884   5.510262\n",
       "min      5.026900  -2.680700\n",
       "25%      5.707700   1.986900\n",
       "50%      6.589400   4.562300\n",
       "75%      8.578100   7.046700\n",
       "max     22.203000  24.147000"
      ]
     },
     "execution_count": 6,
     "metadata": {},
     "output_type": "execute_result"
    }
   ],
   "source": [
    "# describe() metodu ile veriler hakkında daha fazla bilgi edinmeye çalışalım:\n",
    "\n",
    "data.describe()"
   ]
  },
  {
   "cell_type": "code",
   "execution_count": 7,
   "metadata": {},
   "outputs": [
    {
     "name": "stdout",
     "output_type": "stream",
     "text": [
      "<class 'pandas.core.frame.DataFrame'>\n",
      "RangeIndex: 97 entries, 0 to 96\n",
      "Data columns (total 2 columns):\n",
      "Population    97 non-null float64\n",
      "Profit        97 non-null float64\n",
      "dtypes: float64(2)\n",
      "memory usage: 1.6 KB\n"
     ]
    }
   ],
   "source": [
    "data.info()"
   ]
  },
  {
   "cell_type": "code",
   "execution_count": 13,
   "metadata": {},
   "outputs": [
    {
     "data": {
      "image/png": "[encoded data removed]",
      "text/plain": [
       "<Figure size 864x576 with 1 Axes>"
      ]
     },
     "metadata": {
      "needs_background": "light"
     },
     "output_type": "display_data"
    }
   ],
   "source": [
    "# Verilerinizle ilgili istatistikleri incelemek yardımcı olabilir, \n",
    "# ancak bazen verileri görselleştirmenin yollarını da bulmanız gerekir. \n",
    "# Neyse ki bu veri kümesinin sadece bir bağımlı değişkeni vardır, \n",
    "# bu yüzden neye benzediğine dair daha iyi bir fikir edinmek için bir dağılım grafiği çizebiliriz. \n",
    "# Bunun için pandas tarafından sağlanan \"plot\" fonksiyonunu kullanabiliriz\n",
    "\n",
    "data.plot(kind=\"scatter\",x=\"Population\",y=\"Profit\",figsize=(12,8),marker=\"x\",grid=True)\n",
    "plt.ylabel(\"10000'de Kar\")         \n",
    "plt.xlabel(\"10000'de Nüfus\")     \n",
    "plt.title('Scatter Plot')\n",
    "plt.show()"
   ]
  },
  {
   "cell_type": "markdown",
   "metadata": {},
   "source": [
    "Daha küçük nüfusa sahip şehirlerin etrafında bir değerler kümesi olduğunu ve şehrin büyüklüğü arttıkça kârın artması konusunda bir miktar doğrusal eğilim olduğunu açıkça görebiliriz. Şimdi eğlenceli kısma geçelim - sıfırdan python'da doğrusal bir regresyon algoritması uygulayalım!\n",
    "\n",
    "Basitçe bazı theta parametlerini kullanarak,X'de(Population) olmayan bir değer verildiğinde, y'nin(prefit) ne olacağını tahmin edebileceğimiz bir model oluşturmaya çalışıyoruz.\n",
    "\n",
    "Bu uygulamada,theta parametrelerini bulmak için Gradient Descent denilen bir optimizyon tekniğini kullanacağız. Doğrusal regresyon için theta parametrelerini bulmanın başka bir tekniği, parametreleri tek seferde bulan Normal Denklem'dir. Gradient Descent ise,parametreleri tek seferde bulmak yerine bir dizi matris işlemleri yaparak adım adım theta değerlerine yaklaşarak parametreleri bulmaya çalışır.\n",
    "\n",
    "İlk olarak maliyet fonksiyonuna ihtiyacımız var. Maliyet fonksiyonu, gerçek y değerleri ile modelimizin tahmin ettiği y değerleri arasındaki farkı hesaplar."
   ]
  },
  {
   "cell_type": "code",
   "execution_count": 30,
   "metadata": {},
   "outputs": [],
   "source": [
    "# maliyet fonksiyonunu hesaplamadan önce bazı manipülasyonlar yapmamız gerekir\n",
    "\n",
    "X_new=np.c_[np.ones((len(data),1)),data[\"Population\"]] # X_new artık bias teriminide içeren 97x2'lik bir matristir.\n",
    "y=np.array(data[\"Profit\"]).reshape(len(y),1) # y,artık sadece Profit değerlerini içeriyor ve 97x2'lik bir matris\n",
    "theta=np.zeros((2,1)) # theta değerlerini 0'a eşitleyelim\n",
    "\n",
    "# maliyet fonksiyonu (cost function):\n",
    "\n",
    "def maliyetHesapla(X,y,theta):\n",
    "    \"\"\"\n",
    "    Bu fonksiyon X,y ve theta değerleri alır ve maliyeti döndürür.\n",
    "    \"\"\"\n",
    "    maliyet = np.power((X.dot(theta)-y),2)\n",
    "    return sum(maliyet)/(2*len(X))"
   ]
  },
  {
   "cell_type": "code",
   "execution_count": 31,
   "metadata": {},
   "outputs": [
    {
     "data": {
      "text/plain": [
       "array([32.07273388])"
      ]
     },
     "execution_count": 31,
     "metadata": {},
     "output_type": "execute_result"
    }
   ],
   "source": [
    "# theta'lar 0 iken oluşan maliyet:\n",
    "maliyetHesapla(X_new,y,theta)"
   ]
  },
  {
   "cell_type": "markdown",
   "metadata": {},
   "source": [
    "Şimdi bu maliyeti düşürmek için Gradient Descent tekniğini kullanacağız. Gradient Descent tekniğini kullanarak en iyi parametreleri bulacağız ve bu sayede maliyeti düşürmüş olacağız."
   ]
  },
  {
   "cell_type": "code",
   "execution_count": 69,
   "metadata": {},
   "outputs": [],
   "source": [
    "def gradientDescent(X,y,theta,eta,iterasyon): # eta yada alpha = öğrenme oranı\n",
    "    for i in range(iterasyon):\n",
    "        gradyan = (2/len(X))*(X.T.dot(X.dot(theta)-y))\n",
    "        theta = theta - eta*gradyan\n",
    "        \n",
    "    return theta"
   ]
  },
  {
   "cell_type": "code",
   "execution_count": 75,
   "metadata": {},
   "outputs": [
    {
     "data": {
      "text/plain": [
       "array([[-3.87813769],\n",
       "       [ 1.19126119]])"
      ]
     },
     "execution_count": 75,
     "metadata": {},
     "output_type": "execute_result"
    }
   ],
   "source": [
    "new_theta = gradientDescent(X_new,y,[[0],[0]],0.01,1500)\n",
    "new_theta"
   ]
  },
  {
   "cell_type": "markdown",
   "metadata": {},
   "source": [
    "Yeni katsayılarımız artık -3.63029144(bias) ve 1.16636235. Şimdi bu teta değerlerini, maliyeti yeniden hesaplamak ve ne kadar maliyet indirimi elde ettiğimizi görmek için kullanalım."
   ]
  },
  {
   "cell_type": "code",
   "execution_count": 77,
   "metadata": {},
   "outputs": [
    {
     "data": {
      "text/plain": [
       "array([4.47699971])"
      ]
     },
     "execution_count": 77,
     "metadata": {},
     "output_type": "execute_result"
    }
   ],
   "source": [
    "yeni_maliyet = maliyetHesapla(X_new,y,new_theta)\n",
    "yeni_maliyet"
   ]
  },
  {
   "cell_type": "markdown",
   "metadata": {},
   "source": [
    "Elde ettiğimiz yeni theta değerlerini kullanarak aldığımız maliyet gördüğünüz gibi oldukça düştü.\n",
    "\n",
    "Şimdi eğitim setindeki(X_new) verilere doğrusal regresyonu çizelim:"
   ]
  },
  {
   "cell_type": "code",
   "execution_count": 96,
   "metadata": {},
   "outputs": [
    {
     "data": {
      "image/png": "[encoded data removed]",
      "text/plain": [
       "<Figure size 432x288 with 1 Axes>"
      ]
     },
     "metadata": {
      "needs_background": "light"
     },
     "output_type": "display_data"
    }
   ],
   "source": [
    "plt.scatter(X_new[:,1],y,c=\"red\",marker=\"x\",label=\"Eğitim verileri\")\n",
    "plt.plot(X_new[:,1],np.dot(X_new,new_theta),label=\"Doğrusal Regresyon\")\n",
    "plt.legend()\n",
    "plt.show()"
   ]
  },
  {
   "cell_type": "markdown",
   "metadata": {},
   "source": [
    "Fena değil! Çözümümüz veri kümesinin benzerine ve optimal doğrusal modele benziyor.\n",
    "\n",
    "Şimdi iki şehrin nüfusunu gösteren iki değişkenimiz olsun. Görevimiz bu iki şehirden elde edilen kârı tahmin etmektir. Fonksiyonumuz bir şehir için nüfus içeren tek bir vektörün yanı sıra birkaç şehir için nüfus içeren bir dizi alabilir."
   ]
  },
  {
   "cell_type": "code",
   "execution_count": 102,
   "metadata": {},
   "outputs": [],
   "source": [
    "# Şimdi verilen popüslasyona göre kârı tahmin edebilmek için bir fonksiyon tanımlayalım:\n",
    "\n",
    "ilk_sehir=3500\n",
    "ikinci_sehir=70000\n",
    "\n",
    "def tahmin(X,new_theta):\n",
    "    \"\"\"\n",
    "    Bu fonksiyon popülasyon değeri alır ve kârı tahmin eder.\n",
    "    \"\"\"\n",
    "    \n",
    "    X=np.c_[np.ones((len(X),1)),X]\n",
    "    return X.dot(new_theta)"
   ]
  },
  {
   "cell_type": "code",
   "execution_count": 106,
   "metadata": {},
   "outputs": [
    {
     "data": {
      "text/plain": [
       "array([[ 4165.53604354],\n",
       "       [83384.40548698]])"
      ]
     },
     "execution_count": 106,
     "metadata": {},
     "output_type": "execute_result"
    }
   ],
   "source": [
    "tahmin([ilk_sehir,ikinci_sehir],new_theta)"
   ]
  },
  {
   "cell_type": "code",
   "execution_count": 115,
   "metadata": {},
   "outputs": [
    {
     "name": "stdout",
     "output_type": "stream",
     "text": [
      "3500 nüfus için kâr [[4165.53604354]] olacaktır.\n",
      "70000 nüfus için kâr [[83384.40548698]] olacaktır.\n"
     ]
    }
   ],
   "source": [
    "tahmin1=tahmin([ilk_sehir],new_theta)\n",
    "tahmin2=tahmin([ikinci_sehir],new_theta)\n",
    "\n",
    "print(f\"{ilk_sehir} nüfus için kâr {tahmin1} olacaktır.\")\n",
    "print(f\"{ikinci_sehir} nüfus için kâr {tahmin2} olacaktır.\")\n"
   ]
  },
  {
   "cell_type": "code",
   "execution_count": null,
   "metadata": {},
   "outputs": [],
   "source": []
  }
 ],
 "metadata": {
  "kernelspec": {
   "display_name": "Python 3",
   "language": "python",
   "name": "python3"
  },
  "language_info": {
   "codemirror_mode": {
    "name": "ipython",
    "version": 3
   },
   "file_extension": ".py",
   "mimetype": "text/x-python",
   "name": "python",
   "nbconvert_exporter": "python",
   "pygments_lexer": "ipython3",
   "version": "3.7.6"
  }
 },
 "nbformat": 4,
 "nbformat_minor": 2
}
